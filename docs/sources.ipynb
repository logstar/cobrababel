{
 "cells": [
  {
   "cell_type": "markdown",
   "metadata": {},
   "source": [
    "## Create models from source systems\n",
    "\n",
    "CobraBabel supports creating COBRA models from multiple source systems.\n",
    "\n",
    "### VMH\n",
    "\n",
    "Virtual Metabolic Human includes a model for human metabolism (Recon2) and models for human gut microbes (AGORA)."
   ]
  },
  {
   "cell_type": "code",
   "execution_count": null,
   "metadata": {
    "collapsed": true
   },
   "outputs": [],
   "source": [
    "btheta = cobrababel.create()"
   ]
  },
  {
   "cell_type": "markdown",
   "metadata": {},
   "source": [
    "### BiGG\n",
    "\n",
    "Biochemical, Genetic, and Genomic knowledge base (BiGG) includes manually curated models for microbes along with universal databases of reactions, metabolites, and compartments."
   ]
  },
  {
   "cell_type": "markdown",
   "metadata": {},
   "source": [
    "### MetaNetX\n",
    "\n",
    "MetaNetX includes universal databases of reactions, metabolites, and compartments along with a reaction and a metabolite cross reference to map between IDs between source systems."
   ]
  },
  {
   "cell_type": "markdown",
   "metadata": {},
   "source": [
    "### KEGG\n",
    "\n",
    "Kyoto Encyclopedia of Genes and Genomes (KEGG) includes a universal database of reactions and metabolites."
   ]
  }
 ],
 "metadata": {
  "kernelspec": {
   "display_name": "python36",
   "language": "python",
   "name": "python36"
  },
  "language_info": {
   "codemirror_mode": {
    "name": "ipython",
    "version": 3
   },
   "file_extension": ".py",
   "mimetype": "text/x-python",
   "name": "python",
   "nbconvert_exporter": "python",
   "pygments_lexer": "ipython3",
   "version": "3.6.1"
  }
 },
 "nbformat": 4,
 "nbformat_minor": 2
}
